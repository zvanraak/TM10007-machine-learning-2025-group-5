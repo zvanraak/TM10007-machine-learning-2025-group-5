{
 "cells": [
  {
   "cell_type": "markdown",
   "metadata": {
    "colab_type": "text",
    "id": "7SXpaKwwGe5x"
   },
   "source": [
    "# TM10007 Assignment template"
   ]
  },
  {
   "cell_type": "code",
   "execution_count": 2,
   "metadata": {
    "colab": {
     "base_uri": "https://localhost:8080/",
     "height": 69
    },
    "colab_type": "code",
    "id": "CiDn2Sk-VWqE",
    "outputId": "64224cd2-6054-4b04-a3f6-af8290400dfc"
   },
   "outputs": [],
   "source": [
    "# Run this to use from colab environment\n",
    "#!pip install -q --upgrade git+https://github.com/jveenland/tm10007_ml.git"
   ]
  },
  {
   "cell_type": "markdown",
   "metadata": {},
   "source": [
    "## Data loading and cleaning\n",
    "\n",
    "Below are functions to load the dataset of your choice. After that, it is all up to you to create and evaluate a classification method. Beware, there may be missing values in these datasets. Good luck!"
   ]
  },
  {
   "cell_type": "code",
   "execution_count": 3,
   "metadata": {
    "colab": {},
    "colab_type": "code",
    "id": "-NE_fTbKGe5z"
   },
   "outputs": [
    {
     "name": "stdout",
     "output_type": "stream",
     "text": [
      "The number of samples: 115\n",
      "The number of columns: 494\n"
     ]
    }
   ],
   "source": [
    "# Data loading functions. Uncomment the one you want to use\n",
    "#from worcgist.load_data import load_data\n",
    "from worclipo.load_data import load_data\n",
    "#from worcliver.load_data import load_data\n",
    "#from ecg.load_data import load_data\n",
    "\n",
    "# Import classifiers\n",
    "from sklearn import model_selection\n",
    "\n",
    "data = load_data()\n",
    "print(f'The number of samples: {len(data.index)}')\n",
    "print(f'The number of columns: {len(data.columns)}')\n",
    "\n",
    "X = data.drop(\"label\",axis=1)\n",
    "y = data[\"label\"]\n",
    "\n",
    "X_train, X_test, y_train, y_test = model_selection.train_test_split(X, y)\n"
   ]
  },
  {
   "cell_type": "markdown",
   "metadata": {},
   "source": [
    "### Preprocessing"
   ]
  },
  {
   "cell_type": "markdown",
   "metadata": {},
   "source": [
    "Missing data\n",
    "* Part 1: Finding missing data"
   ]
  },
  {
   "cell_type": "code",
   "execution_count": 26,
   "metadata": {},
   "outputs": [
    {
     "name": "stdout",
     "output_type": "stream",
     "text": [
      "Series([], dtype: int64)\n",
      "Series([], dtype: int64)\n",
      "Series([], dtype: int64)\n",
      "Series([], dtype: int64)\n"
     ]
    }
   ],
   "source": [
    "# Define missing value indicators\n",
    "custom_missing = ['NA', 'null', 'N/A', '?', 'None', 'none', '-']\n",
    "\n",
    "# Count NaNs\n",
    "nan_counts = X_train.isna().sum()\n",
    "nan_counts_selected = nan_counts[nan_counts !=0]\n",
    "\n",
    "# Count empty strings\n",
    "empty_string_counts = (X_train == '').sum()\n",
    "empty_string_counts_selected = empty_string_counts[empty_string_counts != 0]\n",
    "\n",
    "# Count zero's\n",
    "zero_counts = (X_train == 0).sum()\n",
    "zero_counts_selected = zero_counts[zero_counts != 0]\n",
    "\n",
    "# Count custom missing indicators (case-insensitive match)\n",
    "custom_missing_counts = X_train.apply(lambda col: col.astype(str).str.lower().isin([val.lower() for val in custom_missing]).sum())\n",
    "custom_missing_counts_selected = custom_missing_counts[custom_missing_counts !=0]\n",
    "\n",
    "# Printing\n",
    "print(nan_counts_selected)\n",
    "print(empty_string_counts_selected)\n",
    "print(zero_counts_selected)\n",
    "print(custom_missing_counts_selected)\n",
    "#X_train_zero_columns = X_train[zero_counts_selected.index]\n",
    "#X_train_zero_columns"
   ]
  },
  {
   "cell_type": "markdown",
   "metadata": {},
   "source": [
    "* Part 2: Processing missing data"
   ]
  },
  {
   "cell_type": "code",
   "execution_count": 27,
   "metadata": {},
   "outputs": [],
   "source": [
    "# Missing data was only find in the form of zero's, therefore only zero_counts is further used.\n",
    "limit = len(X_train.index)*50/100 #If 50% or more of the data within one feature is missing the feature is deleted\n",
    "valid_columns = [col for col, count in zero_counts.items() if count < limit]\n",
    "\n",
    "# Keep only the valid columns in both X_train and X_test\n",
    "X_train = X_train[valid_columns]\n",
    "X_test = X_test[valid_columns]\n",
    "\n",
    "# Imputate remaining zero's\n",
    "# Import\n",
    "import numpy as np\n",
    "import pandas as pd\n",
    "from sklearn.impute import SimpleImputer\n",
    "from scipy.stats import shapiro\n",
    "\n",
    "# Replace zeros with NaN\n",
    "X_train.replace(0, np.nan, inplace=True)\n",
    "X_test.replace(0, np.nan, inplace=True)\n",
    "\n",
    "imputation_strategies = {}  # Store mean/median decision per column\n",
    "\n",
    "for col in X_train.select_dtypes(include=['number']).columns:  # Only numeric columns\n",
    "    col_data = X_train[col].dropna()  # Remove NaN values for testing\n",
    "\n",
    "    if len(col_data) > 3:  # Shapiro requires at least 3 non-null values\n",
    "        if col_data.nunique() == 1:  # Check if all values are the same\n",
    "            strategy = 'median'  # Default to median if no variability\n",
    "        else:\n",
    "            _, p = shapiro(col_data)\n",
    "            strategy = 'mean' if p > 0.05 else 'median'\n",
    "    else:\n",
    "        strategy = 'median'  # Default to median if too few values\n",
    "\n",
    "    imputation_strategies[col] = strategy\n",
    "\n",
    "# Create imputers for mean and median\n",
    "mean_imputer = SimpleImputer(strategy='mean')\n",
    "median_imputer = SimpleImputer(strategy='median')\n",
    "\n",
    "for col, strategy in imputation_strategies.items():\n",
    "    imputer = mean_imputer if strategy == 'mean' else median_imputer\n",
    "    X_train[[col]] = imputer.fit_transform(X_train[[col]])\n",
    "    X_test[[col]] = imputer.transform(X_test[[col]])  # Use the same imputer"
   ]
  },
  {
   "cell_type": "markdown",
   "metadata": {},
   "source": [
    "Scaling data"
   ]
  },
  {
   "cell_type": "code",
   "execution_count": 28,
   "metadata": {},
   "outputs": [],
   "source": [
    "import pandas as pd\n",
    "from sklearn import preprocessing\n",
    "\n",
    "scaler_MaxAbsScaler = preprocessing.MaxAbsScaler()\n",
    "scaler_Normalizer = preprocessing.Normalizer()\n",
    "scaler_standard = preprocessing.StandardScaler()\n",
    "scaler_minmax = preprocessing.MinMaxScaler()\n",
    "scaler_robust = preprocessing.RobustScaler()\n",
    "\n",
    "scaled_MaxAbsScaler_array_train = scaler_MaxAbsScaler.fit_transform(X_train)\n",
    "scaled_MaxAbsScaler_array_test = scaler_MaxAbsScaler.transform(X_test)\n",
    "scaled_Normalizer_array_train = scaler_Normalizer.fit_transform(X_train)\n",
    "scaled_Normalizer_array_test = scaler_Normalizer.transform(X_test)\n",
    "scaled_standard_array_train = scaler_standard.fit_transform(X_train)\n",
    "scaled_standard_array_test = scaler_standard.transform(X_test)\n",
    "scaled_minmax_array_train = scaler_minmax.fit_transform(X_train)\n",
    "scaled_minmax_array_test = scaler_minmax.transform(X_test)\n",
    "scaled_robust_array_train = scaler_robust.fit_transform(X_train)\n",
    "scaled_robust_array_test = scaler_robust.transform(X_test)\n",
    "\n",
    "X_scaled_MaxAbsScaler_train = pd.DataFrame(scaled_MaxAbsScaler_array_train, columns=X_train.columns)\n",
    "X_df_scaled_Normalizer_train = pd.DataFrame(scaled_Normalizer_array_train, columns=X_train.columns)\n",
    "X_scaled_Normalizer_test = pd.DataFrame(scaled_Normalizer_array_test, columns=X_test.columns)\n",
    "X_scaled_standard_train = pd.DataFrame(scaled_standard_array_train, columns=X_train.columns)\n",
    "X_scaled_standard_test = pd.DataFrame(scaled_standard_array_test, columns=X_test.columns)\n",
    "X_scaled_minmax_train = pd.DataFrame(scaled_minmax_array_train, columns=X_train.columns)\n",
    "X_scaled_minmax_test = pd.DataFrame(scaled_minmax_array_test, columns=X_test.columns)\n",
    "X_scaled_robust_train = pd.DataFrame(scaled_robust_array_train, columns=X_train.columns)\n",
    "X_scaled_robust_test = pd.DataFrame(scaled_robust_array_test, columns=X_test.columns)\n"
   ]
  },
  {
   "cell_type": "markdown",
   "metadata": {},
   "source": [
    "Feature extraction"
   ]
  },
  {
   "cell_type": "markdown",
   "metadata": {},
   "source": [
    "Lloyd"
   ]
  },
  {
   "cell_type": "code",
   "execution_count": null,
   "metadata": {},
   "outputs": [],
   "source": []
  },
  {
   "cell_type": "markdown",
   "metadata": {},
   "source": [
    "Inge: Optimization based feature selection > Lasso "
   ]
  },
  {
   "cell_type": "code",
   "execution_count": null,
   "metadata": {},
   "outputs": [
    {
     "name": "stdout",
     "output_type": "stream",
     "text": [
      "Label Mapping: {0: 'lipoma', 1: 'liposarcoma'}\n",
      "Best alpha found: 0.05689866029018299\n",
      "Selected Features: Index(['PREDICT_original_sf_compactness_avg_2.5D',\n",
      "       'PREDICT_original_sf_volume_2.5D', 'PREDICT_original_of_theta_x',\n",
      "       'PREDICT_original_hf_skewness', 'PREDICT_original_logf_peak_sigma10',\n",
      "       'PREDICT_original_tf_GLCMMS_contrastd3.0A2.36std',\n",
      "       'PREDICT_original_tf_GLCMMS_dissimilarityd3.0A2.36std',\n",
      "       'PREDICT_original_tf_GLCMMS_homogeneityd3.0A0.79mean',\n",
      "       'PREDICT_original_tf_GLCMMS_ASMd3.0A1.57std',\n",
      "       'PREDICT_original_tf_Gabor_min_F0.05_A0.0',\n",
      "       'PREDICT_original_tf_Gabor_skewness_F0.05_A0.0',\n",
      "       'PREDICT_original_tf_Gabor_peak_position_F0.05_A0.0',\n",
      "       'PREDICT_original_tf_Gabor_mean_F0.2_A0.79',\n",
      "       'PREDICT_original_tf_Gabor_peak_F0.2_A0.79',\n",
      "       'PREDICT_original_tf_Gabor_median_F0.2_A1.57',\n",
      "       'PREDICT_original_tf_Gabor_median_F0.5_A0.0',\n",
      "       'PREDICT_original_tf_Gabor_median_F0.5_A2.36',\n",
      "       'PREDICT_original_vf_Frangi_full_max_SR(1.0, 10.0)_SS2.0',\n",
      "       'PREDICT_original_phasef_monogenic_quartile_range_WL3_N5',\n",
      "       'PREDICT_original_phasef_phasesym_skewness_WL3_N5'],\n",
      "      dtype='object')\n",
      "Accuracy Score: 0.5172413793103449\n",
      "Classification Report:\n",
      "               precision    recall  f1-score   support\n",
      "\n",
      "           0       0.53      0.60      0.56        15\n",
      "           1       0.50      0.43      0.46        14\n",
      "\n",
      "    accuracy                           0.52        29\n",
      "   macro avg       0.51      0.51      0.51        29\n",
      "weighted avg       0.52      0.52      0.51        29\n",
      "\n",
      "Confusion Matrix:\n",
      " [[9 6]\n",
      " [8 6]]\n",
      "Random Forest Accuracy: 0.7241379310344828\n",
      "SVM Accuracy: 0.5172413793103449\n"
     ]
    },
    {
     "name": "stderr",
     "output_type": "stream",
     "text": [
      "/Users/ingeheddes/anaconda3/lib/python3.10/site-packages/sklearn/base.py:413: UserWarning: X has feature names, but SelectFromModel was fitted without feature names\n",
      "  warnings.warn(\n",
      "/Users/ingeheddes/anaconda3/lib/python3.10/site-packages/sklearn/base.py:413: UserWarning: X has feature names, but SelectFromModel was fitted without feature names\n",
      "  warnings.warn(\n"
     ]
    },
    {
     "data": {
      "image/png": "[encoded data removed]",
      "text/plain": [
       "<Figure size 640x480 with 1 Axes>"
      ]
     },
     "metadata": {},
     "output_type": "display_data"
    }
   ],
   "source": [
    "from sklearn.linear_model import LassoCV\n",
    "from sklearn.linear_model import Lasso\n",
    "from sklearn.preprocessing import LabelEncoder\n",
    "from sklearn.feature_selection import SelectFromModel\n",
    "\n",
    "# Encode y labels to numeric values\n",
    "le = LabelEncoder()\n",
    "y_train_numeric = le.fit_transform(y_train)\n",
    "y_test_numeric = le.transform(y_test)\n",
    "\n",
    "# Store the mapping of labels\n",
    "legend_labels = le.classes_  # This saves the original class names\n",
    "print(\"Label Mapping:\", {i: label for i, label in enumerate(legend_labels)})\n",
    "\n",
    "# Define LassoCV with cross-validation\n",
    "alphas=np.logspace(-4, 1, 50) # Testing alpha from 0.0001 to 10\n",
    "random_state = 42 #  Using int will produce the same results everytime, 42 is along 0 the most popular choice\n",
    "lasso_cv = LassoCV(cv=5, alphas=alphas, random_state=random_state, max_iter=10000)  # cv = 5 chosen \n",
    "\n",
    "# Fit LassoCV on training data\n",
    "lasso_cv.fit(X_scaled_standard_train, y_train_numeric)\n",
    "\n",
    "# Get the best alpha value\n",
    "best_alpha = lasso_cv.alpha_\n",
    "print(f\"Best alpha found: {best_alpha}\")\n",
    "\n",
    "# Train final Lasso model with optimal alpha\n",
    "lasso = Lasso(alpha=best_alpha)\n",
    "lasso.fit(X_scaled_standard_train, y_train_numeric)\n",
    "\n",
    "# Select features\n",
    "selector = SelectFromModel(lasso, prefit=True)\n",
    "X_train_selected = selector.transform(X_scaled_standard_train)\n",
    "X_test_selected = selector.transform(X_scaled_standard_test)\n",
    "\n",
    "# Get selected feature indices and names\n",
    "selected_features = np.where(selector.get_support())[0]\n",
    "selected_feature_names = X_scaled_standard_train.columns[selected_features]\n",
    "print(\"Selected Features:\", selected_feature_names)\n",
    "\n",
    "## Logistic Regression CLF\n",
    "from sklearn.linear_model import LogisticRegression\n",
    "from sklearn.metrics import classification_report, accuracy_score, confusion_matrix\n",
    "\n",
    "# Train the logistic regression model with selected features\n",
    "clf = LogisticRegression(random_state=random_state)\n",
    "clf.fit(X_train_selected, y_train_numeric)\n",
    "\n",
    "# Make predictions on the test set\n",
    "y_pred = clf.predict(X_test_selected)\n",
    "\n",
    "# Evaluate the model\n",
    "print(\"Accuracy Score:\", accuracy_score(y_test_numeric, y_pred))\n",
    "print(\"Classification Report:\\n\", classification_report(y_test_numeric, y_pred))\n",
    "print(\"Confusion Matrix:\\n\", confusion_matrix(y_test_numeric, y_pred))\n",
    "\n",
    "## Random Forest CLF\n",
    "from sklearn.ensemble import RandomForestClassifier\n",
    "from sklearn.svm import SVC\n",
    "\n",
    "# Random Forest\n",
    "rf_clf = RandomForestClassifier(random_state=random_state)\n",
    "rf_clf.fit(X_train_selected, y_train_numeric)\n",
    "\n",
    "# SVM\n",
    "svm_clf = SVC(random_state=random_state)\n",
    "svm_clf.fit(X_train_selected, y_train_numeric)\n",
    "\n",
    "# Predictions for Random Forest and SVM\n",
    "rf_y_pred = rf_clf.predict(X_test_selected)\n",
    "svm_y_pred = svm_clf.predict(X_test_selected)\n",
    "\n",
    "# Evaluate the models\n",
    "print(\"Random Forest Accuracy:\", accuracy_score(y_test_numeric, rf_y_pred))\n",
    "print(\"SVM Accuracy:\", accuracy_score(y_test_numeric, svm_y_pred))\n",
    "\n",
    "## ROC Curve and AUC\n",
    "from sklearn.metrics import roc_curve, auc\n",
    "import matplotlib.pyplot as plt\n",
    "\n",
    "# ROC curve for Logistic Regression, Random Forest, and SVM\n",
    "fpr, tpr, _ = roc_curve(y_test_numeric, clf.predict_proba(X_test_selected)[:, 1])\n",
    "roc_auc = auc(fpr, tpr)\n",
    "\n",
    "plt.figure()\n",
    "plt.plot(fpr, tpr, color='blue', lw=2, label=f'ROC curve (area = {roc_auc:.2f})')\n",
    "plt.plot([0, 1], [0, 1], color='gray', lw=2, linestyle='--')\n",
    "plt.xlabel('False Positive Rate')\n",
    "plt.ylabel('True Positive Rate')\n",
    "plt.title('ROC Curve - Logistic Regression')\n",
    "plt.legend(loc='lower right')\n",
    "plt.show()\n"
   ]
  },
  {
   "cell_type": "code",
   "execution_count": null,
   "metadata": {},
   "outputs": [],
   "source": [
    "\n"
   ]
  },
  {
   "cell_type": "markdown",
   "metadata": {},
   "source": [
    "Random forest"
   ]
  },
  {
   "cell_type": "code",
   "execution_count": null,
   "metadata": {},
   "outputs": [],
   "source": []
  }
 ],
 "metadata": {
  "colab": {
   "collapsed_sections": [],
   "name": "assignment.ipynb",
   "provenance": []
  },
  "kernelspec": {
   "display_name": "base",
   "language": "python",
   "name": "python3"
  },
  "language_info": {
   "codemirror_mode": {
    "name": "ipython",
    "version": 3
   },
   "file_extension": ".py",
   "mimetype": "text/x-python",
   "name": "python",
   "nbconvert_exporter": "python",
   "pygments_lexer": "ipython3",
   "version": "3.10.9"
  }
 },
 "nbformat": 4,
 "nbformat_minor": 1
}
